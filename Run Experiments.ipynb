{
 "cells": [
  {
   "cell_type": "code",
   "execution_count": 1,
   "metadata": {},
   "outputs": [],
   "source": [
    "import numpy as np\n",
    "from simulate_bandits import simulate_all_rules\n",
    "import os, pickle\n",
    "from itertools import product\n",
    "import multiprocessing as mp\n",
    "import subprocess\n",
    "\n",
    "num_cpu = 8"
   ]
  },
  {
   "cell_type": "code",
   "execution_count": 2,
   "metadata": {},
   "outputs": [],
   "source": [
    "# Load results file\n",
    "\n",
    "if os.path.exists('results.pickle'):\n",
    "  with open('results.pickle', 'rb') as f:\n",
    "    results = pickle.load(f)\n",
    "else:\n",
    "  results = {}"
   ]
  },
  {
   "cell_type": "code",
   "execution_count": 3,
   "metadata": {},
   "outputs": [],
   "source": [
    "# Settings to run\n",
    "\n",
    "trials = [250000]\n",
    "num_voters = [3, 10]#, 30, 100, 300]\n",
    "pull_variance = [1000.]\n",
    "count_noise = [0.]\n",
    "random_count_prob = [0.]\n",
    "\n",
    "experiments = [e for e in product(trials, num_voters, pull_variance, count_noise, random_count_prob) if \n",
    "               (e[2] == 0.) or (e[3] == 0.)]"
   ]
  },
  {
   "cell_type": "code",
   "execution_count": 4,
   "metadata": {},
   "outputs": [
    {
     "data": {
      "text/plain": [
       "[(250000, 3, 1000.0, 0.0, 0.0), (250000, 10, 1000.0, 0.0, 0.0)]"
      ]
     },
     "execution_count": 4,
     "metadata": {},
     "output_type": "execute_result"
    }
   ],
   "source": [
    "experiments"
   ]
  },
  {
   "cell_type": "code",
   "execution_count": 5,
   "metadata": {},
   "outputs": [],
   "source": [
    "def run_experiment(experiment):\n",
    "  \"\"\"Running from subprocess because for some reason calling simulate directly \n",
    "  causes hanging (I think due to Pytorch)\"\"\"\n",
    "  trials, num_voters, pull_variance, count_noise, random_count_prob = experiment\n",
    "  return subprocess.run(['python simulate_bandits.py ' +\\\n",
    "                  '--num_voters {} '.format(num_voters) +\\\n",
    "                  '--pull_variance {} '.format(pull_variance) +\\\n",
    "                  '--count_noise {} '.format(count_noise) +\\\n",
    "                  '--random_count_prob {} '.format(random_count_prob) +\\\n",
    "                  '--trials {} --save'.format(trials)\n",
    "                  ], check=True, shell=True)"
   ]
  },
  {
   "cell_type": "code",
   "execution_count": 6,
   "metadata": {},
   "outputs": [],
   "source": [
    "# Note: they all save to the same file, so there is a small chance of this failing\n",
    "with mp.Pool(num_cpu) as pool:\n",
    "  res = pool.map(run_experiment, experiments)"
   ]
  },
  {
   "cell_type": "code",
   "execution_count": 7,
   "metadata": {},
   "outputs": [
    {
     "data": {
      "text/plain": [
       "[CompletedProcess(args=['python simulate_bandits.py --num_voters 3 --pull_variance 1000.0 --count_noise 0.0 --random_count_prob 0.0 --trials 250000 --save'], returncode=0),\n",
       " CompletedProcess(args=['python simulate_bandits.py --num_voters 10 --pull_variance 1000.0 --count_noise 0.0 --random_count_prob 0.0 --trials 250000 --save'], returncode=0)]"
      ]
     },
     "execution_count": 7,
     "metadata": {},
     "output_type": "execute_result"
    }
   ],
   "source": [
    "res"
   ]
  },
  {
   "cell_type": "code",
   "execution_count": 8,
   "metadata": {},
   "outputs": [],
   "source": [
    "# Reload results file\n",
    "\n",
    "if os.path.exists('results.pickle'):\n",
    "  with open('results.pickle', 'rb') as f:\n",
    "    results = pickle.load(f)\n",
    "else:\n",
    "  results = {}"
   ]
  },
  {
   "cell_type": "code",
   "execution_count": 9,
   "metadata": {},
   "outputs": [
    {
     "data": {
      "text/plain": [
       "[(250000, 3, 0, 0, 1000), (250000, 10, 0, 0, 1000)]"
      ]
     },
     "execution_count": 9,
     "metadata": {},
     "output_type": "execute_result"
    }
   ],
   "source": [
    "list(results.keys())"
   ]
  },
  {
   "cell_type": "code",
   "execution_count": 10,
   "metadata": {
    "scrolled": false
   },
   "outputs": [
    {
     "data": {
      "text/plain": [
       "{(250000,\n",
       "  3,\n",
       "  0,\n",
       "  0,\n",
       "  1000): {'correct_prediction': {'oracle': 0.17825,\n",
       "   'borda': 0.16664,\n",
       "   'plurality': 0.13754,\n",
       "   'case4': 0.1741,\n",
       "   'case4norm': 0.17216,\n",
       "   'case5lower': 0.14934,\n",
       "   'case5zero': 0.14959,\n",
       "   'case5monte': 0.14978,\n",
       "   'hplurality': 0.1411,\n",
       "   'hplurality_sqrt': 0.14175,\n",
       "   'hplurality_log': 0.14176,\n",
       "   'aplurality': 0.14079,\n",
       "   'aplurality_sqrt': 0.1408,\n",
       "   'aplurality_log': 0.1408,\n",
       "   'hborda': 0.1649,\n",
       "   'hborda_sqrt': 0.16689,\n",
       "   'hborda_log': 0.16705,\n",
       "   'aborda': 0.16719,\n",
       "   'aborda_sqrt': 0.1669,\n",
       "   'aborda_log': 0.16694,\n",
       "   'learned': 0.1754,\n",
       "   'learned_noisy': 0.17558}, 'regret': {'oracle': 1.16326,\n",
       "   'borda': 1.21088,\n",
       "   'plurality': 1.34882,\n",
       "   'case4': 1.17686,\n",
       "   'case4norm': 1.18737,\n",
       "   'case5lower': 1.28546,\n",
       "   'case5zero': 1.28172,\n",
       "   'case5monte': 1.28281,\n",
       "   'hplurality': 1.32525,\n",
       "   'hplurality_sqrt': 1.32307,\n",
       "   'hplurality_log': 1.3231,\n",
       "   'aplurality': 1.32916,\n",
       "   'aplurality_sqrt': 1.32915,\n",
       "   'aplurality_log': 1.32915,\n",
       "   'hborda': 1.21672,\n",
       "   'hborda_sqrt': 1.20899,\n",
       "   'hborda_log': 1.20855,\n",
       "   'aborda': 1.20974,\n",
       "   'aborda_sqrt': 1.20982,\n",
       "   'aborda_log': 1.20945,\n",
       "   'learned': 1.1695,\n",
       "   'learned_noisy': 1.16989}},\n",
       " (250000,\n",
       "  10,\n",
       "  0,\n",
       "  0,\n",
       "  1000): {'correct_prediction': {'oracle': 0.26336,\n",
       "   'borda': 0.23003,\n",
       "   'plurality': 0.16854,\n",
       "   'case4': 0.24399,\n",
       "   'case4norm': 0.24292,\n",
       "   'case5lower': 0.1815,\n",
       "   'case5zero': 0.18376,\n",
       "   'case5monte': 0.1839,\n",
       "   'hplurality': 0.17069,\n",
       "   'hplurality_sqrt': 0.17289,\n",
       "   'hplurality_log': 0.17289,\n",
       "   'aplurality': 0.1721,\n",
       "   'aplurality_sqrt': 0.1721,\n",
       "   'aplurality_log': 0.17214,\n",
       "   'hborda': 0.22476,\n",
       "   'hborda_sqrt': 0.23012,\n",
       "   'hborda_log': 0.23013,\n",
       "   'aborda': 0.2311,\n",
       "   'aborda_sqrt': 0.23069,\n",
       "   'aborda_log': 0.23063,\n",
       "   'learned': 0.24752,\n",
       "   'learned_noisy': 0.24698}, 'regret': {'oracle': 0.86198,\n",
       "   'borda': 0.96686,\n",
       "   'plurality': 1.21342,\n",
       "   'case4': 0.91906,\n",
       "   'case4norm': 0.92227,\n",
       "   'case5lower': 1.15447,\n",
       "   'case5zero': 1.14426,\n",
       "   'case5monte': 1.14467,\n",
       "   'hplurality': 1.19854,\n",
       "   'hplurality_sqrt': 1.19088,\n",
       "   'hplurality_log': 1.19145,\n",
       "   'aplurality': 1.19583,\n",
       "   'aplurality_sqrt': 1.19622,\n",
       "   'aplurality_log': 1.19601,\n",
       "   'hborda': 0.98488,\n",
       "   'hborda_sqrt': 0.96689,\n",
       "   'hborda_log': 0.96548,\n",
       "   'aborda': 0.96328,\n",
       "   'aborda_sqrt': 0.96338,\n",
       "   'aborda_log': 0.96416,\n",
       "   'learned': 0.90814,\n",
       "   'learned_noisy': 0.9098}}}"
      ]
     },
     "execution_count": 10,
     "metadata": {},
     "output_type": "execute_result"
    }
   ],
   "source": [
    "results"
   ]
  },
  {
   "cell_type": "code",
   "execution_count": null,
   "metadata": {},
   "outputs": [],
   "source": []
  }
 ],
 "metadata": {
  "kernelspec": {
   "display_name": "Python 3",
   "language": "python",
   "name": "python3"
  },
  "language_info": {
   "codemirror_mode": {
    "name": "ipython",
    "version": 3
   },
   "file_extension": ".py",
   "mimetype": "text/x-python",
   "name": "python",
   "nbconvert_exporter": "python",
   "pygments_lexer": "ipython3",
   "version": "3.6.10"
  }
 },
 "nbformat": 4,
 "nbformat_minor": 2
}
