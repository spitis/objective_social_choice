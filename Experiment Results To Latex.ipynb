{
 "cells": [
  {
   "cell_type": "code",
   "execution_count": 1,
   "metadata": {},
   "outputs": [],
   "source": [
    "import numpy as np\n",
    "from simulate_bandits import simulate_all_rules\n",
    "import os, pickle\n",
    "from itertools import product\n",
    "import multiprocessing as mp\n",
    "import subprocess\n",
    "\n",
    "num_cpu = 4"
   ]
  },
  {
   "cell_type": "code",
   "execution_count": 2,
   "metadata": {},
   "outputs": [],
   "source": [
    "# Load results file\n",
    "\n",
    "if os.path.exists('results.pickle'):\n",
    "  with open('results.pickle', 'rb') as f:\n",
    "    results = pickle.load(f)\n",
    "else:\n",
    "  results = {}"
   ]
  },
  {
   "cell_type": "code",
   "execution_count": 3,
   "metadata": {},
   "outputs": [],
   "source": [
    "def exp_key(experiment):\n",
    "  trials, num_voters, pull_variance, count_noise, random_count_prob = experiment\n",
    "  return (trials, num_voters, round(100*count_noise), round(100*random_count_prob), round(pull_variance))"
   ]
  },
  {
   "cell_type": "code",
   "execution_count": 4,
   "metadata": {},
   "outputs": [],
   "source": [
    "# Non-default settings to run\n",
    "\n",
    "trials = [250000]\n",
    "num_voters = [3, 10, 30, 100, 300, 500]\n",
    "pull_variance = [10., 1000.]\n",
    "count_noise = [0., 0.5]\n",
    "random_count_prob = [0., 0.33]\n",
    "\n",
    "experiments = [e for e in product(trials, num_voters, pull_variance, count_noise, random_count_prob) if \n",
    "               (e[2] == 0.) or (e[3] == 0.)]"
   ]
  },
  {
   "cell_type": "code",
   "execution_count": 5,
   "metadata": {},
   "outputs": [],
   "source": [
    "import pandas as pd\n",
    "from collections import defaultdict"
   ]
  },
  {
   "cell_type": "code",
   "execution_count": 6,
   "metadata": {},
   "outputs": [],
   "source": [
    "tables = defaultdict(dict)\n",
    "for experiment in experiments:\n",
    "  trials, num_voters, pull_variance, count_noise, random_count_prob = experiment\n",
    "  exp_k = (trials, num_voters, round(100*count_noise), round(100*random_count_prob), round(pull_variance))\n",
    "  for metric in ['correct_prediction', 'regret']:\n",
    "    table_k = (trials, round(100*count_noise), round(100*random_count_prob), round(pull_variance), metric)\n",
    "    if results.get(exp_k):\n",
    "      tables[table_k][num_voters] = results[exp_k][metric]"
   ]
  },
  {
   "cell_type": "code",
   "execution_count": 7,
   "metadata": {},
   "outputs": [
    {
     "data": {
      "text/plain": [
       "defaultdict(dict,\n",
       "            {(250000,\n",
       "              0,\n",
       "              0,\n",
       "              1000,\n",
       "              'correct_prediction'): {3: {'oracle': 0.17825,\n",
       "               'borda': 0.16664,\n",
       "               'plurality': 0.13754,\n",
       "               'case4': 0.1741,\n",
       "               'case4norm': 0.17216,\n",
       "               'case5lower': 0.14934,\n",
       "               'case5zero': 0.14959,\n",
       "               'case5monte': 0.14978,\n",
       "               'hplurality': 0.1411,\n",
       "               'hplurality_sqrt': 0.14175,\n",
       "               'hplurality_log': 0.14176,\n",
       "               'aplurality': 0.14079,\n",
       "               'aplurality_sqrt': 0.1408,\n",
       "               'aplurality_log': 0.1408,\n",
       "               'hborda': 0.1649,\n",
       "               'hborda_sqrt': 0.16689,\n",
       "               'hborda_log': 0.16705,\n",
       "               'aborda': 0.16719,\n",
       "               'aborda_sqrt': 0.1669,\n",
       "               'aborda_log': 0.16694,\n",
       "               'learned': 0.1754,\n",
       "               'learned_noisy': 0.17558}, 10: {'oracle': 0.26336,\n",
       "               'borda': 0.23003,\n",
       "               'plurality': 0.16854,\n",
       "               'case4': 0.24399,\n",
       "               'case4norm': 0.24292,\n",
       "               'case5lower': 0.1815,\n",
       "               'case5zero': 0.18376,\n",
       "               'case5monte': 0.1839,\n",
       "               'hplurality': 0.17069,\n",
       "               'hplurality_sqrt': 0.17289,\n",
       "               'hplurality_log': 0.17289,\n",
       "               'aplurality': 0.1721,\n",
       "               'aplurality_sqrt': 0.1721,\n",
       "               'aplurality_log': 0.17214,\n",
       "               'hborda': 0.22476,\n",
       "               'hborda_sqrt': 0.23012,\n",
       "               'hborda_log': 0.23013,\n",
       "               'aborda': 0.2311,\n",
       "               'aborda_sqrt': 0.23069,\n",
       "               'aborda_log': 0.23063,\n",
       "               'learned': 0.24752,\n",
       "               'learned_noisy': 0.24698}},\n",
       "             (250000,\n",
       "              0,\n",
       "              0,\n",
       "              1000,\n",
       "              'regret'): {3: {'oracle': 1.16326,\n",
       "               'borda': 1.21088,\n",
       "               'plurality': 1.34882,\n",
       "               'case4': 1.17686,\n",
       "               'case4norm': 1.18737,\n",
       "               'case5lower': 1.28546,\n",
       "               'case5zero': 1.28172,\n",
       "               'case5monte': 1.28281,\n",
       "               'hplurality': 1.32525,\n",
       "               'hplurality_sqrt': 1.32307,\n",
       "               'hplurality_log': 1.3231,\n",
       "               'aplurality': 1.32916,\n",
       "               'aplurality_sqrt': 1.32915,\n",
       "               'aplurality_log': 1.32915,\n",
       "               'hborda': 1.21672,\n",
       "               'hborda_sqrt': 1.20899,\n",
       "               'hborda_log': 1.20855,\n",
       "               'aborda': 1.20974,\n",
       "               'aborda_sqrt': 1.20982,\n",
       "               'aborda_log': 1.20945,\n",
       "               'learned': 1.1695,\n",
       "               'learned_noisy': 1.16989}, 10: {'oracle': 0.86198,\n",
       "               'borda': 0.96686,\n",
       "               'plurality': 1.21342,\n",
       "               'case4': 0.91906,\n",
       "               'case4norm': 0.92227,\n",
       "               'case5lower': 1.15447,\n",
       "               'case5zero': 1.14426,\n",
       "               'case5monte': 1.14467,\n",
       "               'hplurality': 1.19854,\n",
       "               'hplurality_sqrt': 1.19088,\n",
       "               'hplurality_log': 1.19145,\n",
       "               'aplurality': 1.19583,\n",
       "               'aplurality_sqrt': 1.19622,\n",
       "               'aplurality_log': 1.19601,\n",
       "               'hborda': 0.98488,\n",
       "               'hborda_sqrt': 0.96689,\n",
       "               'hborda_log': 0.96548,\n",
       "               'aborda': 0.96328,\n",
       "               'aborda_sqrt': 0.96338,\n",
       "               'aborda_log': 0.96416,\n",
       "               'learned': 0.90814,\n",
       "               'learned_noisy': 0.9098}}})"
      ]
     },
     "execution_count": 7,
     "metadata": {},
     "output_type": "execute_result"
    }
   ],
   "source": [
    "tables"
   ]
  },
  {
   "cell_type": "code",
   "execution_count": 8,
   "metadata": {
    "scrolled": false
   },
   "outputs": [
    {
     "name": "stdout",
     "output_type": "stream",
     "text": [
      "(250000, 0, 0, 1000, 'correct_prediction')\n",
      "\\begin{tabular}{lrr}\n",
      "\\toprule\n",
      "{} &     3  &     10 \\\\\n",
      "\\midrule\n",
      "oracle          & 0.1782 & 0.2634 \\\\\n",
      "borda           & 0.1666 & 0.2300 \\\\\n",
      "plurality       & 0.1375 & 0.1685 \\\\\n",
      "case4           & 0.1741 & 0.2440 \\\\\n",
      "case4norm       & 0.1722 & 0.2429 \\\\\n",
      "case5lower      & 0.1493 & 0.1815 \\\\\n",
      "case5zero       & 0.1496 & 0.1838 \\\\\n",
      "case5monte      & 0.1498 & 0.1839 \\\\\n",
      "hplurality      & 0.1411 & 0.1707 \\\\\n",
      "hplurality\\_sqrt & 0.1417 & 0.1729 \\\\\n",
      "hplurality\\_log  & 0.1418 & 0.1729 \\\\\n",
      "aplurality      & 0.1408 & 0.1721 \\\\\n",
      "aplurality\\_sqrt & 0.1408 & 0.1721 \\\\\n",
      "aplurality\\_log  & 0.1408 & 0.1721 \\\\\n",
      "hborda          & 0.1649 & 0.2248 \\\\\n",
      "hborda\\_sqrt     & 0.1669 & 0.2301 \\\\\n",
      "hborda\\_log      & 0.1671 & 0.2301 \\\\\n",
      "aborda          & 0.1672 & 0.2311 \\\\\n",
      "aborda\\_sqrt     & 0.1669 & 0.2307 \\\\\n",
      "aborda\\_log      & 0.1669 & 0.2306 \\\\\n",
      "learned         & 0.1754 & 0.2475 \\\\\n",
      "learned\\_noisy   & 0.1756 & 0.2470 \\\\\n",
      "\\bottomrule\n",
      "\\end{tabular}\n",
      "\n",
      "(250000, 0, 0, 1000, 'regret')\n",
      "\\begin{tabular}{lrr}\n",
      "\\toprule\n",
      "{} &     3  &     10 \\\\\n",
      "\\midrule\n",
      "oracle          & 1.1633 & 0.8620 \\\\\n",
      "borda           & 1.2109 & 0.9669 \\\\\n",
      "plurality       & 1.3488 & 1.2134 \\\\\n",
      "case4           & 1.1769 & 0.9191 \\\\\n",
      "case4norm       & 1.1874 & 0.9223 \\\\\n",
      "case5lower      & 1.2855 & 1.1545 \\\\\n",
      "case5zero       & 1.2817 & 1.1443 \\\\\n",
      "case5monte      & 1.2828 & 1.1447 \\\\\n",
      "hplurality      & 1.3253 & 1.1985 \\\\\n",
      "hplurality\\_sqrt & 1.3231 & 1.1909 \\\\\n",
      "hplurality\\_log  & 1.3231 & 1.1914 \\\\\n",
      "aplurality      & 1.3292 & 1.1958 \\\\\n",
      "aplurality\\_sqrt & 1.3292 & 1.1962 \\\\\n",
      "aplurality\\_log  & 1.3292 & 1.1960 \\\\\n",
      "hborda          & 1.2167 & 0.9849 \\\\\n",
      "hborda\\_sqrt     & 1.2090 & 0.9669 \\\\\n",
      "hborda\\_log      & 1.2086 & 0.9655 \\\\\n",
      "aborda          & 1.2097 & 0.9633 \\\\\n",
      "aborda\\_sqrt     & 1.2098 & 0.9634 \\\\\n",
      "aborda\\_log      & 1.2094 & 0.9642 \\\\\n",
      "learned         & 1.1695 & 0.9081 \\\\\n",
      "learned\\_noisy   & 1.1699 & 0.9098 \\\\\n",
      "\\bottomrule\n",
      "\\end{tabular}\n",
      "\n"
     ]
    }
   ],
   "source": [
    "dfs = []\n",
    "for k, table in tables.items():\n",
    "  df = pd.DataFrame(table)\n",
    "  dfs.append(df)\n",
    "  print(k)\n",
    "  print(df.to_latex(float_format=\"{:0.4f}\".format))"
   ]
  },
  {
   "cell_type": "code",
   "execution_count": null,
   "metadata": {},
   "outputs": [],
   "source": []
  },
  {
   "cell_type": "code",
   "execution_count": null,
   "metadata": {},
   "outputs": [],
   "source": []
  }
 ],
 "metadata": {
  "kernelspec": {
   "display_name": "Python 3",
   "language": "python",
   "name": "python3"
  },
  "language_info": {
   "codemirror_mode": {
    "name": "ipython",
    "version": 3
   },
   "file_extension": ".py",
   "mimetype": "text/x-python",
   "name": "python",
   "nbconvert_exporter": "python",
   "pygments_lexer": "ipython3",
   "version": "3.6.10"
  }
 },
 "nbformat": 4,
 "nbformat_minor": 2
}
